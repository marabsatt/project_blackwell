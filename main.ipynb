{
 "cells": [
  {
   "cell_type": "code",
   "execution_count": 116,
   "id": "cfb8e125",
   "metadata": {},
   "outputs": [],
   "source": [
    "# import class for web scraping\n",
    "import requests\n",
    "from bs4 import BeautifulSoup\n",
    "\n",
    "# import class for financial data\n",
    "import yfinance as yf\n",
    "\n",
    "# import class for data manipulation and analysis\n",
    "import pandas as pd\n",
    "import numpy as np\n",
    "\n",
    "# import class for data visualization\n",
    "import matplotlib.pyplot as plt\n",
    "import seaborn as sns\n",
    "import statsmodels.api as sm\n",
    "\n",
    "# import class for machine learning\n",
    "from sklearn.model_selection import train_test_split\n",
    "from sklearn.linear_model import LinearRegression\n",
    "from statsmodels.regression.rolling import RollingOLS\n",
    "\n",
    "\n",
    "# import class for evaluation metrics\n",
    "from sklearn.metrics import root_mean_squared_error, mean_absolute_error, r2_score\n",
    "\n",
    "# import class for formalized statisitcial tests\n",
    "from statsmodels.regression.linear_model import OLS\n",
    "from statsmodels.tsa.stattools import coint\n",
    "\n",
    "# import class for connection to broker \n",
    "from ib_insync import *\n",
    "import nest_asyncio\n",
    "\n",
    "# import class(s) for supportive functions\n",
    "import random\n",
    "import datetime as dt\n"
   ]
  },
  {
   "cell_type": "code",
   "execution_count": 117,
   "id": "133f217b",
   "metadata": {},
   "outputs": [
    {
     "name": "stderr",
     "output_type": "stream",
     "text": [
      "/var/folders/dl/q12jywhx4svgdkc33pp48gq80000gn/T/ipykernel_36582/3970819978.py:9: FutureWarning: Passing literal html to 'read_html' is deprecated and will be removed in a future version. To read from a literal string, wrap it in a 'StringIO' object.\n",
      "  tables = pd.read_html(str(soup))\n"
     ]
    }
   ],
   "source": [
    "url = \"https://en.wikipedia.org/wiki/List_of_S%26P_500_companies\"\n",
    "headers = {'User-Agent': 'Mozilla/5.0 (Windows NT 10.0; Win64; x64) AppleWebKit/537.36 (KHTML, like Gecko) Chrome/91.0.4472.124 Safari/537.36'}\n",
    "\n",
    "try:\n",
    "    response = requests.get(url, headers=headers)\n",
    "    response.raise_for_status()  # Raise an exception for HTTP errors\n",
    "    html_content = response.text  # Print the HTML content of the page\n",
    "    soup = BeautifulSoup(html_content, 'html.parser')\n",
    "    tables = pd.read_html(str(soup))\n",
    "    df = tables[0]\n",
    "    \n",
    "except requests.exceptions.RequestException as e:\n",
    "    print(f\"Error fetching URL: {e}\")"
   ]
  },
  {
   "cell_type": "code",
   "execution_count": 118,
   "id": "45ea8259",
   "metadata": {},
   "outputs": [
    {
     "data": {
      "application/vnd.microsoft.datawrangler.viewer.v0+json": {
       "columns": [
        {
         "name": "index",
         "rawType": "int64",
         "type": "integer"
        },
        {
         "name": "Symbol",
         "rawType": "object",
         "type": "string"
        },
        {
         "name": "Security",
         "rawType": "object",
         "type": "string"
        },
        {
         "name": "GICS Sector",
         "rawType": "object",
         "type": "string"
        },
        {
         "name": "GICS Sub-Industry",
         "rawType": "object",
         "type": "string"
        },
        {
         "name": "Headquarters Location",
         "rawType": "object",
         "type": "string"
        },
        {
         "name": "Date added",
         "rawType": "object",
         "type": "string"
        },
        {
         "name": "CIK",
         "rawType": "int64",
         "type": "integer"
        },
        {
         "name": "Founded",
         "rawType": "object",
         "type": "string"
        }
       ],
       "ref": "59f04530-33f1-4482-b086-5b73de331aea",
       "rows": [
        [
         "6",
         "AMD",
         "Advanced Micro Devices",
         "Information Technology",
         "Semiconductors",
         "Santa Clara, California",
         "2017-03-20",
         "2488",
         "1969"
        ],
        [
         "34",
         "ADI",
         "Analog Devices",
         "Information Technology",
         "Semiconductors",
         "Wilmington, Massachusetts",
         "1999-10-12",
         "6281",
         "1965"
        ],
        [
         "71",
         "AVGO",
         "Broadcom",
         "Information Technology",
         "Semiconductors",
         "Palo Alto, California",
         "2014-05-08",
         "1730168",
         "1961"
        ],
        [
         "196",
         "FSLR",
         "First Solar",
         "Information Technology",
         "Semiconductors",
         "Tempe, Arizona",
         "2022-12-19",
         "1274494",
         "1999"
        ],
        [
         "249",
         "INTC",
         "Intel",
         "Information Technology",
         "Semiconductors",
         "Santa Clara, California",
         "1976-12-31",
         "50863",
         "1968"
        ],
        [
         "315",
         "MCHP",
         "Microchip Technology",
         "Information Technology",
         "Semiconductors",
         "Chandler, Arizona",
         "2007-09-07",
         "827054",
         "1989"
        ],
        [
         "316",
         "MU",
         "Micron Technology",
         "Information Technology",
         "Semiconductors",
         "Boise, Idaho",
         "1994-09-27",
         "723125",
         "1978"
        ],
        [
         "324",
         "MPWR",
         "Monolithic Power Systems",
         "Information Technology",
         "Semiconductors",
         "Kirkland, Washington",
         "2021-02-12",
         "1280452",
         "1997"
        ],
        [
         "347",
         "NVDA",
         "Nvidia",
         "Information Technology",
         "Semiconductors",
         "Santa Clara, California",
         "2001-11-30",
         "1045810",
         "1993"
        ],
        [
         "349",
         "NXPI",
         "NXP Semiconductors",
         "Information Technology",
         "Semiconductors",
         "Eindhoven, Netherlands",
         "2021-03-22",
         "1413447",
         "1953"
        ],
        [
         "354",
         "ON",
         "ON Semiconductor",
         "Information Technology",
         "Semiconductors",
         "Phoenix, Arizona",
         "2022-06-21",
         "1097864",
         "1999"
        ],
        [
         "388",
         "QCOM",
         "Qualcomm",
         "Information Technology",
         "Semiconductors",
         "San Diego, California",
         "1999-07-22",
         "804328",
         "1985"
        ],
        [
         "414",
         "SWKS",
         "Skyworks Solutions",
         "Information Technology",
         "Semiconductors",
         "Irvine, California",
         "2015-03-12",
         "4127",
         "2002"
        ],
        [
         "441",
         "TXN",
         "Texas Instruments",
         "Information Technology",
         "Semiconductors",
         "Dallas, Texas",
         "2001-03-12",
         "97476",
         "1930"
        ]
       ],
       "shape": {
        "columns": 8,
        "rows": 14
       }
      },
      "text/html": [
       "<div>\n",
       "<style scoped>\n",
       "    .dataframe tbody tr th:only-of-type {\n",
       "        vertical-align: middle;\n",
       "    }\n",
       "\n",
       "    .dataframe tbody tr th {\n",
       "        vertical-align: top;\n",
       "    }\n",
       "\n",
       "    .dataframe thead th {\n",
       "        text-align: right;\n",
       "    }\n",
       "</style>\n",
       "<table border=\"1\" class=\"dataframe\">\n",
       "  <thead>\n",
       "    <tr style=\"text-align: right;\">\n",
       "      <th></th>\n",
       "      <th>Symbol</th>\n",
       "      <th>Security</th>\n",
       "      <th>GICS Sector</th>\n",
       "      <th>GICS Sub-Industry</th>\n",
       "      <th>Headquarters Location</th>\n",
       "      <th>Date added</th>\n",
       "      <th>CIK</th>\n",
       "      <th>Founded</th>\n",
       "    </tr>\n",
       "  </thead>\n",
       "  <tbody>\n",
       "    <tr>\n",
       "      <th>6</th>\n",
       "      <td>AMD</td>\n",
       "      <td>Advanced Micro Devices</td>\n",
       "      <td>Information Technology</td>\n",
       "      <td>Semiconductors</td>\n",
       "      <td>Santa Clara, California</td>\n",
       "      <td>2017-03-20</td>\n",
       "      <td>2488</td>\n",
       "      <td>1969</td>\n",
       "    </tr>\n",
       "    <tr>\n",
       "      <th>34</th>\n",
       "      <td>ADI</td>\n",
       "      <td>Analog Devices</td>\n",
       "      <td>Information Technology</td>\n",
       "      <td>Semiconductors</td>\n",
       "      <td>Wilmington, Massachusetts</td>\n",
       "      <td>1999-10-12</td>\n",
       "      <td>6281</td>\n",
       "      <td>1965</td>\n",
       "    </tr>\n",
       "    <tr>\n",
       "      <th>71</th>\n",
       "      <td>AVGO</td>\n",
       "      <td>Broadcom</td>\n",
       "      <td>Information Technology</td>\n",
       "      <td>Semiconductors</td>\n",
       "      <td>Palo Alto, California</td>\n",
       "      <td>2014-05-08</td>\n",
       "      <td>1730168</td>\n",
       "      <td>1961</td>\n",
       "    </tr>\n",
       "    <tr>\n",
       "      <th>196</th>\n",
       "      <td>FSLR</td>\n",
       "      <td>First Solar</td>\n",
       "      <td>Information Technology</td>\n",
       "      <td>Semiconductors</td>\n",
       "      <td>Tempe, Arizona</td>\n",
       "      <td>2022-12-19</td>\n",
       "      <td>1274494</td>\n",
       "      <td>1999</td>\n",
       "    </tr>\n",
       "    <tr>\n",
       "      <th>249</th>\n",
       "      <td>INTC</td>\n",
       "      <td>Intel</td>\n",
       "      <td>Information Technology</td>\n",
       "      <td>Semiconductors</td>\n",
       "      <td>Santa Clara, California</td>\n",
       "      <td>1976-12-31</td>\n",
       "      <td>50863</td>\n",
       "      <td>1968</td>\n",
       "    </tr>\n",
       "    <tr>\n",
       "      <th>315</th>\n",
       "      <td>MCHP</td>\n",
       "      <td>Microchip Technology</td>\n",
       "      <td>Information Technology</td>\n",
       "      <td>Semiconductors</td>\n",
       "      <td>Chandler, Arizona</td>\n",
       "      <td>2007-09-07</td>\n",
       "      <td>827054</td>\n",
       "      <td>1989</td>\n",
       "    </tr>\n",
       "    <tr>\n",
       "      <th>316</th>\n",
       "      <td>MU</td>\n",
       "      <td>Micron Technology</td>\n",
       "      <td>Information Technology</td>\n",
       "      <td>Semiconductors</td>\n",
       "      <td>Boise, Idaho</td>\n",
       "      <td>1994-09-27</td>\n",
       "      <td>723125</td>\n",
       "      <td>1978</td>\n",
       "    </tr>\n",
       "    <tr>\n",
       "      <th>324</th>\n",
       "      <td>MPWR</td>\n",
       "      <td>Monolithic Power Systems</td>\n",
       "      <td>Information Technology</td>\n",
       "      <td>Semiconductors</td>\n",
       "      <td>Kirkland, Washington</td>\n",
       "      <td>2021-02-12</td>\n",
       "      <td>1280452</td>\n",
       "      <td>1997</td>\n",
       "    </tr>\n",
       "    <tr>\n",
       "      <th>347</th>\n",
       "      <td>NVDA</td>\n",
       "      <td>Nvidia</td>\n",
       "      <td>Information Technology</td>\n",
       "      <td>Semiconductors</td>\n",
       "      <td>Santa Clara, California</td>\n",
       "      <td>2001-11-30</td>\n",
       "      <td>1045810</td>\n",
       "      <td>1993</td>\n",
       "    </tr>\n",
       "    <tr>\n",
       "      <th>349</th>\n",
       "      <td>NXPI</td>\n",
       "      <td>NXP Semiconductors</td>\n",
       "      <td>Information Technology</td>\n",
       "      <td>Semiconductors</td>\n",
       "      <td>Eindhoven, Netherlands</td>\n",
       "      <td>2021-03-22</td>\n",
       "      <td>1413447</td>\n",
       "      <td>1953</td>\n",
       "    </tr>\n",
       "    <tr>\n",
       "      <th>354</th>\n",
       "      <td>ON</td>\n",
       "      <td>ON Semiconductor</td>\n",
       "      <td>Information Technology</td>\n",
       "      <td>Semiconductors</td>\n",
       "      <td>Phoenix, Arizona</td>\n",
       "      <td>2022-06-21</td>\n",
       "      <td>1097864</td>\n",
       "      <td>1999</td>\n",
       "    </tr>\n",
       "    <tr>\n",
       "      <th>388</th>\n",
       "      <td>QCOM</td>\n",
       "      <td>Qualcomm</td>\n",
       "      <td>Information Technology</td>\n",
       "      <td>Semiconductors</td>\n",
       "      <td>San Diego, California</td>\n",
       "      <td>1999-07-22</td>\n",
       "      <td>804328</td>\n",
       "      <td>1985</td>\n",
       "    </tr>\n",
       "    <tr>\n",
       "      <th>414</th>\n",
       "      <td>SWKS</td>\n",
       "      <td>Skyworks Solutions</td>\n",
       "      <td>Information Technology</td>\n",
       "      <td>Semiconductors</td>\n",
       "      <td>Irvine, California</td>\n",
       "      <td>2015-03-12</td>\n",
       "      <td>4127</td>\n",
       "      <td>2002</td>\n",
       "    </tr>\n",
       "    <tr>\n",
       "      <th>441</th>\n",
       "      <td>TXN</td>\n",
       "      <td>Texas Instruments</td>\n",
       "      <td>Information Technology</td>\n",
       "      <td>Semiconductors</td>\n",
       "      <td>Dallas, Texas</td>\n",
       "      <td>2001-03-12</td>\n",
       "      <td>97476</td>\n",
       "      <td>1930</td>\n",
       "    </tr>\n",
       "  </tbody>\n",
       "</table>\n",
       "</div>"
      ],
      "text/plain": [
       "    Symbol                  Security             GICS Sector  \\\n",
       "6      AMD    Advanced Micro Devices  Information Technology   \n",
       "34     ADI            Analog Devices  Information Technology   \n",
       "71    AVGO                  Broadcom  Information Technology   \n",
       "196   FSLR               First Solar  Information Technology   \n",
       "249   INTC                     Intel  Information Technology   \n",
       "315   MCHP      Microchip Technology  Information Technology   \n",
       "316     MU         Micron Technology  Information Technology   \n",
       "324   MPWR  Monolithic Power Systems  Information Technology   \n",
       "347   NVDA                    Nvidia  Information Technology   \n",
       "349   NXPI        NXP Semiconductors  Information Technology   \n",
       "354     ON          ON Semiconductor  Information Technology   \n",
       "388   QCOM                  Qualcomm  Information Technology   \n",
       "414   SWKS        Skyworks Solutions  Information Technology   \n",
       "441    TXN         Texas Instruments  Information Technology   \n",
       "\n",
       "    GICS Sub-Industry      Headquarters Location  Date added      CIK Founded  \n",
       "6      Semiconductors    Santa Clara, California  2017-03-20     2488    1969  \n",
       "34     Semiconductors  Wilmington, Massachusetts  1999-10-12     6281    1965  \n",
       "71     Semiconductors      Palo Alto, California  2014-05-08  1730168    1961  \n",
       "196    Semiconductors             Tempe, Arizona  2022-12-19  1274494    1999  \n",
       "249    Semiconductors    Santa Clara, California  1976-12-31    50863    1968  \n",
       "315    Semiconductors          Chandler, Arizona  2007-09-07   827054    1989  \n",
       "316    Semiconductors               Boise, Idaho  1994-09-27   723125    1978  \n",
       "324    Semiconductors       Kirkland, Washington  2021-02-12  1280452    1997  \n",
       "347    Semiconductors    Santa Clara, California  2001-11-30  1045810    1993  \n",
       "349    Semiconductors     Eindhoven, Netherlands  2021-03-22  1413447    1953  \n",
       "354    Semiconductors           Phoenix, Arizona  2022-06-21  1097864    1999  \n",
       "388    Semiconductors      San Diego, California  1999-07-22   804328    1985  \n",
       "414    Semiconductors         Irvine, California  2015-03-12     4127    2002  \n",
       "441    Semiconductors              Dallas, Texas  2001-03-12    97476    1930  "
      ]
     },
     "execution_count": 118,
     "metadata": {},
     "output_type": "execute_result"
    }
   ],
   "source": [
    "df[df['GICS Sub-Industry'] == 'Semiconductors']"
   ]
  },
  {
   "cell_type": "code",
   "execution_count": null,
   "id": "dff824d0",
   "metadata": {},
   "outputs": [],
   "source": [
    "tickers_list = df[df['GICS Sub-Industry'] == 'Semiconductors']['Symbol'].tolist()\n",
    "tickers_list"
   ]
  },
  {
   "cell_type": "code",
   "execution_count": null,
   "id": "28510bdd",
   "metadata": {},
   "outputs": [],
   "source": [
    "current_date = dt.datetime.now().strftime('%Y-%m-%d')\n",
    "df = yf.download(tickers_list, start = '2020-01-01', end = current_date)['Close']\n",
    "df.head()"
   ]
  },
  {
   "cell_type": "code",
   "execution_count": null,
   "id": "a08326f7",
   "metadata": {},
   "outputs": [],
   "source": [
    "def cointegration_pairs(df, threshold=0.05):\n",
    "    pairs = []\n",
    "    for i in range(len(df.columns)):\n",
    "        for j in range(i + 1, len(df.columns)):\n",
    "            stock1 = df.iloc[:, i]\n",
    "            stock2 = df.iloc[:, j]\n",
    "            score, p_value, _ = coint(stock1, stock2)\n",
    "            if p_value < threshold:\n",
    "                pairs.append((df.columns[i], df.columns[j], p_value))\n",
    "    return pairs"
   ]
  },
  {
   "cell_type": "code",
   "execution_count": null,
   "id": "0dec8f5f",
   "metadata": {},
   "outputs": [],
   "source": [
    "list_of_pairs = cointegration_pairs(df, threshold=0.05)\n",
    "sorted_pairs = sorted(list_of_pairs, key=lambda x: x[2])\n",
    "for pair in sorted_pairs:\n",
    "    print(f\"Stock 1: {pair[0]}, Stock 2: {pair[1]}, p-value: {pair[2]:.4f}\")\n",
    "    pvalues = [pair[2] for pair in sorted_pairs]"
   ]
  },
  {
   "cell_type": "code",
   "execution_count": null,
   "id": "d81c60a7",
   "metadata": {},
   "outputs": [],
   "source": [
    "lowest_p_val = sorted_pairs[-1][0:2]\n",
    "lowest_p_val"
   ]
  },
  {
   "cell_type": "code",
   "execution_count": null,
   "id": "9de8ce5f",
   "metadata": {},
   "outputs": [],
   "source": [
    "# Create a matrix of p-values\n",
    "pvalues_matrix = np.zeros((len(tickers_list), len(tickers_list)))\n",
    "for pair in sorted_pairs:\n",
    "    i = tickers_list.index(pair[0])\n",
    "    j = tickers_list.index(pair[1])\n",
    "    pvalues_matrix[i, j] = pair[2]\n",
    "    pvalues_matrix[j, i] = pair[2]  # Mirror the values\n",
    "\n",
    "# Create heatmap\n",
    "sns.heatmap(\n",
    "    pvalues_matrix,\n",
    "    xticklabels=tickers_list,\n",
    "    yticklabels=tickers_list,\n",
    "    mask=(pvalues_matrix > 0.10)\n",
    ")\n",
    "plt.title('Cointegration p-values Heatmap')\n",
    "plt.show()"
   ]
  },
  {
   "cell_type": "code",
   "execution_count": null,
   "id": "2c56963c",
   "metadata": {},
   "outputs": [],
   "source": [
    "stock1 = df[f'{lowest_p_val[0]}']\n",
    "stock2 = df[f'{lowest_p_val[1]}']"
   ]
  },
  {
   "cell_type": "code",
   "execution_count": null,
   "id": "663674b8",
   "metadata": {},
   "outputs": [],
   "source": [
    "results = sm.OLS(stock2, stock1).fit()\n",
    "b = results.params[0]\n",
    "spread = stock2 - b * stock1"
   ]
  },
  {
   "cell_type": "code",
   "execution_count": null,
   "id": "fba91bd4",
   "metadata": {},
   "outputs": [],
   "source": [
    "hedge_ratio = results.params[0]\n",
    "print('Hedge Ratio = ', hedge_ratio)"
   ]
  },
  {
   "cell_type": "code",
   "execution_count": null,
   "id": "fcd55b94",
   "metadata": {},
   "outputs": [],
   "source": [
    "results.summary()"
   ]
  },
  {
   "cell_type": "code",
   "execution_count": null,
   "id": "813a0bb0",
   "metadata": {},
   "outputs": [],
   "source": [
    "def zscore(series):\n",
    "    return (series - series.mean()) / np.std(series)"
   ]
  },
  {
   "cell_type": "code",
   "execution_count": null,
   "id": "da263e48",
   "metadata": {},
   "outputs": [],
   "source": [
    "zscore(spread).plot(figsize=(21,7))\n",
    "plt.axhline(zscore(spread).mean(), color='black', linestyle='--')\n",
    "plt.axhline(1.0, color='red', linestyle='--')\n",
    "plt.axhline(-1.0, color='green', linestyle='--')\n",
    "plt.legend(['Spread Z-Score', 'Mean', 'Upper Band (Sell Signal)', 'Lower Band (Buy Signal)'])"
   ]
  },
  {
   "cell_type": "code",
   "execution_count": null,
   "id": "c9ab92bf",
   "metadata": {},
   "outputs": [],
   "source": [
    "# plotting the spread\n",
    "\n",
    "plot = spread.plot(figsize=(21,7), title=\"Pair's Spread\")\n",
    "plot.set_ylabel('Spread')\n",
    "plot.grid(True)"
   ]
  },
  {
   "cell_type": "code",
   "execution_count": null,
   "id": "9f68ec0f",
   "metadata": {},
   "outputs": [],
   "source": [
    "plt.figure(figsize=(21, 7))\n",
    "plt.plot(stock1, lw=1.5, label=f\"Close Price of {lowest_p_val[0]}\")\n",
    "plt.plot(stock2, lw=1.5, label=f\"Close Price of {lowest_p_val[1]}\")\n",
    "plt.grid(True)\n",
    "plt.legend(loc=0)\n",
    "\n",
    "plt.axis('tight')\n",
    "plt.xlabel('Dates')\n",
    "plt.ylabel('Price')\n",
    "plt.title(f\"Closing Price of {lowest_p_val[0]} and {lowest_p_val[1]}\")"
   ]
  },
  {
   "cell_type": "code",
   "execution_count": null,
   "id": "1561e949",
   "metadata": {},
   "outputs": [],
   "source": [
    "bt_df = pd.concat([zscore(spread), stock2 - b * stock1], axis=1)\n",
    "bt_df.columns = ['signal', 'position']\n",
    "\n",
    "bt_df['side'] = 0\n",
    "bt_df.loc[bt_df['signal'] <= -1, 'side'] = 1\n",
    "bt_df.loc[bt_df['signal'] >= 1, 'side'] = -1\n",
    "\n",
    "returns = bt_df.position.pct_change() * bt_df.side\n",
    "returns.cumsum().plot(figsize=(13,7), title=\"Cumulative Returns\")\n",
    "plt.grid(True, which='both', linestyle='--', linewidth=0.5)\n"
   ]
  },
  {
   "cell_type": "code",
   "execution_count": null,
   "id": "cd185637",
   "metadata": {},
   "outputs": [],
   "source": [
    "df = df[[f\"{lowest_p_val[0]}\", f\"{lowest_p_val[1]}\"]]"
   ]
  },
  {
   "cell_type": "code",
   "execution_count": null,
   "id": "ad778d25",
   "metadata": {},
   "outputs": [],
   "source": [
    "df = df.join(\n",
    "    spread.rename('spread'),\n",
    "    how='inner'\n",
    ")"
   ]
  },
  {
   "cell_type": "code",
   "execution_count": null,
   "id": "cd5ddde8",
   "metadata": {},
   "outputs": [],
   "source": [
    "df['next_spread'] = df['spread'].shift(-1)\n",
    "df.dropna(inplace=True)"
   ]
  },
  {
   "cell_type": "code",
   "execution_count": null,
   "id": "ffdeef53",
   "metadata": {},
   "outputs": [],
   "source": [
    "# Need to add dependency for train_test_split\n",
    "x_test, x_train, y_test, y_train = train_test_split(\n",
    "    df.drop('next_spread', axis=1).values,\n",
    "    df['next_spread'].values,\n",
    "    test_size=0.2,\n",
    "    shuffle=False\n",
    ")"
   ]
  },
  {
   "cell_type": "code",
   "execution_count": null,
   "id": "81e09ffb",
   "metadata": {},
   "outputs": [],
   "source": [
    "lr_model = LinearRegression()\n",
    "lr_model.fit(x_train, y_train)"
   ]
  },
  {
   "cell_type": "code",
   "execution_count": null,
   "id": "f8ef5273",
   "metadata": {},
   "outputs": [],
   "source": [
    "y_pred = lr_model.predict(x_test)"
   ]
  },
  {
   "cell_type": "code",
   "execution_count": null,
   "id": "0e9bc461",
   "metadata": {},
   "outputs": [],
   "source": [
    "abs_mae_lr = mean_absolute_error(y_test, y_pred)\n",
    "rmse_lr = root_mean_squared_error(y_test, y_pred)\n",
    "r2_lr = r2_score(y_test, y_pred)\n",
    "print(f\"Linear Regression Mean Absolute Error: {abs_mae_lr:.2f}\")\n",
    "print(f\"Linear Regression RMSE: {rmse_lr:.2f}\")\n",
    "print(f\"Linear Regression R^2: {r2_lr:.2f}\")"
   ]
  },
  {
   "cell_type": "code",
   "execution_count": null,
   "id": "f5a70e2e",
   "metadata": {},
   "outputs": [],
   "source": [
    "# Checking for overfitting\n",
    "act_val = lr_model.score(x_train, y_train)\n",
    "pred_val = lr_model.score(x_test, y_test)\n",
    "print(f\"r2 score for training set: {act_val:.2f}\")\n",
    "print(f\"r2 score for test set: {pred_val:.2f}\")"
   ]
  },
  {
   "cell_type": "code",
   "execution_count": null,
   "id": "6b5bb6e7",
   "metadata": {},
   "outputs": [],
   "source": [
    "plt.figure(figsize=(14, 7))\n",
    "\n",
    "# Get the dates from the original DataFrame\n",
    "test_dates = df.index[-len(y_test):]\n",
    "\n",
    "plt.plot(test_dates, y_test, label='Predicted', color='blue')\n",
    "plt.plot(test_dates, spread[:y_test.shape[0]], label='Actual', color='orange')\n",
    "plt.title('Actual vs Predicted Spread')\n",
    "plt.xlabel('Date')\n",
    "plt.ylabel('Stock Spread')\n",
    "plt.legend()\n",
    "plt.grid()"
   ]
  },
  {
   "cell_type": "code",
   "execution_count": null,
   "id": "a4e5bcc5",
   "metadata": {},
   "outputs": [],
   "source": [
    "act_val = lr_model.score(x_train, y_train)\n",
    "predict_val = lr_model.score(x_test, y_test)\n",
    "sns.scatterplot(x=y_test, y=y_pred)\n",
    "sns.lineplot(x = np.linspace(y_test.min(), y_test.max(), 100), \n",
    "             y = np.linspace(y_test.min(), y_test.max(), 100), \n",
    "             color='red', linestyle='--')\n",
    "plt.title('Actual vs Predicted Values')\n",
    "plt.xlabel('Actual Values')\n",
    "plt.ylabel('Predicted Values')"
   ]
  },
  {
   "cell_type": "code",
   "execution_count": null,
   "id": "2e02add0",
   "metadata": {},
   "outputs": [],
   "source": [
    "residuals = y_test - y_pred\n",
    "plt.figure(figsize=(14, 7))\n",
    "sns.scatterplot(x=y_pred, y=residuals)\n",
    "plt.axhline(0, color='red', linestyle='--')\n",
    "plt.title('Residuals vs Predicted Values')\n",
    "plt.xlabel('Predicted Values')\n",
    "plt.ylabel('Residuals')"
   ]
  },
  {
   "cell_type": "code",
   "execution_count": null,
   "id": "5684e6e4",
   "metadata": {},
   "outputs": [],
   "source": [
    "sns.histplot(residuals, bins=30, kde=True)\n",
    "plt.title('Residuals Distribution')\n",
    "plt.xlabel('Residuals')\n",
    "plt.ylabel('Frequency')\n",
    "plt.figure(figsize=(14, 7))\n"
   ]
  },
  {
   "cell_type": "code",
   "execution_count": null,
   "id": "c53e2aa0",
   "metadata": {},
   "outputs": [],
   "source": [
    "sm.qqplot(residuals, line='s')\n",
    "plt.title('Q-Q Plot of Residuals')\n",
    "plt.xlabel('Theoretical Quantiles')\n",
    "plt.ylabel('Sample Quantiles')"
   ]
  },
  {
   "cell_type": "code",
   "execution_count": null,
   "id": "ef242d32",
   "metadata": {},
   "outputs": [],
   "source": [
    "# Instantiate the IB class and connect to IBKR broker\n",
    "nest_asyncio.apply()\n",
    "\n",
    "# Connect to IB Gateway\n",
    "ib = IB()\n",
    "ib.connect('127.0.0.1', 4002, clientId=random.randint(1, 99))\n",
    "\n",
    "# Connect to IB TWS\n",
    "# ib = IB()\n",
    "# ib.connect('127.0.0.1', 7497, clientId = random.randint(1,99)) # Using port 7497 for PAPER trading\n",
    "# ib.connect('127.0.0.1', 7496, clientId = random.randint(1,99)) # Using port 7496 for LIVE trading"
   ]
  },
  {
   "cell_type": "code",
   "execution_count": null,
   "id": "864caec7",
   "metadata": {},
   "outputs": [],
   "source": [
    "# Create a function to buy stock\n",
    "def buy_stock(ticker: str):\n",
    "        \n",
    "        # Checking the account balance\n",
    "        acct_bal = float(ib.accountSummary()[9].value)\n",
    "        \n",
    "        stock = Stock(\n",
    "            symbol = ticker, \n",
    "            exchange = 'SMART', \n",
    "            currency = 'USD'\n",
    "        )\n",
    "        \n",
    "        # User should determine the amount to purchase\n",
    "        purchase_amount = acct_bal * 0.1  # Example: 10% of account balance\n",
    "\n",
    "        action = Order(\n",
    "            action = 'BUY', \n",
    "            totalQuantity = round(purchase_amount.item()), \n",
    "            orderType = 'MKT',  \n",
    "            tif = 'GTC', \n",
    "            outsideRth = True\n",
    "        ) \n",
    "        \n",
    "        order = ib.placeOrder(stock, action)\n",
    "\n",
    "        while True:\n",
    "            ib.waitOnUpdate() # Wait on any new update(s) to arrive from the network."
   ]
  },
  {
   "cell_type": "code",
   "execution_count": null,
   "id": "5d11d26a",
   "metadata": {},
   "outputs": [],
   "source": [
    "# Function to sell stock\n",
    "def sell_stock(ticker: str):\n",
    "        \n",
    "        stock = Stock(\n",
    "            symbol = ticker, \n",
    "            exchange = 'SMART', \n",
    "            currency = 'USD'\n",
    "        )\n",
    "\n",
    "        # Getting the latest price of the stock\n",
    "        ticker_price = yf.Download(ticker, period='1d')['Close'].iloc[-1]  \n",
    "\n",
    "        # Getting the amount of stock bought\n",
    "        amount_bought = ib.positions().position\n",
    "\n",
    "        sell_amount = ticker_price * amount_bought * hedge_ratio  # Adjusting sell amount based on hedge ratio\n",
    "\n",
    "        action = Order(\n",
    "            action = 'SELL', \n",
    "            totalQuantity = round(sell_amount), \n",
    "            orderType = 'MKT',  \n",
    "            tif = 'GTC', \n",
    "            outsideRth = True\n",
    "        )\n",
    "        \n",
    "        order = ib.placeOrder(stock, action)"
   ]
  },
  {
   "cell_type": "code",
   "execution_count": null,
   "id": "4d2b84b6",
   "metadata": {},
   "outputs": [],
   "source": [
    "# Calculate spread boundaries using standard deviation\n",
    "spread_mean = df['spread'].mean()\n",
    "spread_std = df['spread'].std()\n",
    "\n",
    "# Define upper and lower boundaries (typically 1 or 2 standard deviations), use a standard devaition of 2 for more conservative trading\n",
    "upper_boundary = spread_mean + 1 * spread_std\n",
    "lower_boundary = spread_mean - 1 * spread_std\n",
    "\n",
    "print(f\"Spread mean: {spread_mean:.4f}\")\n",
    "print(f\"Spread std: {spread_std:.4f}\")\n",
    "print(f\"Upper boundary: {upper_boundary:.4f}\")\n",
    "print(f\"Lower boundary: {lower_boundary:.4f}\")\n",
    "print(f\"Last prediction: {y_pred[-1]:.4f}\")\n",
    "\n",
    "# Check if the last prediction is outside the boundaries\n",
    "if y_pred[-1] > upper_boundary:\n",
    "    print(f\"Prediction {y_pred[-1]:.4f} is above upper boundary {upper_boundary:.4f}\")\n",
    "    print(f\"Buying {lowest_p_val[0]} stock and selling {lowest_p_val[1]} stock\")\n",
    "    try:\n",
    "        buy_stock(lowest_p_val[0])\n",
    "        sell_stock(lowest_p_val[1])\n",
    "    except Exception as e:\n",
    "        print(f'Error occurred: {e}')\n",
    "        \n",
    "elif y_pred[-1] < lower_boundary:\n",
    "    print(f\"Prediction {y_pred[-1]:.4f} is below lower boundary {lower_boundary:.4f}\")\n",
    "    print(f\"Selling {lowest_p_val[0]} stock and buying {lowest_p_val[1]} stock\")\n",
    "    try:\n",
    "        buy_stock(lowest_p_val[1])\n",
    "        sell_stock(lowest_p_val[0])\n",
    "    except Exception as e:\n",
    "        print(f'Error occurred: {e}')\n",
    "else:\n",
    "    print(f\"Prediction {y_pred[-1]:.4f} is within boundaries [{lower_boundary:.4f}, {upper_boundary:.4f}] - No action taken\")"
   ]
  },
  {
   "cell_type": "code",
   "execution_count": null,
   "id": "8bb0e885",
   "metadata": {},
   "outputs": [],
   "source": [
    "ib.disconnect()\n",
    "# Disconnect from the IBKR broker\n",
    "print('Disconnected from IBKR broker.')"
   ]
  }
 ],
 "metadata": {
  "kernelspec": {
   "display_name": "blackwell (3.9.19)",
   "language": "python",
   "name": "python3"
  },
  "language_info": {
   "codemirror_mode": {
    "name": "ipython",
    "version": 3
   },
   "file_extension": ".py",
   "mimetype": "text/x-python",
   "name": "python",
   "nbconvert_exporter": "python",
   "pygments_lexer": "ipython3",
   "version": "3.9.19"
  }
 },
 "nbformat": 4,
 "nbformat_minor": 5
}
